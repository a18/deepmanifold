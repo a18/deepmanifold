{
 "cells": [
  {
   "cell_type": "markdown",
   "metadata": {},
   "source": [
    "# Deep Manifold Traversal with LFW\n",
    "This Python notebook describes how to run Deep Manifold Traversal to age Aaron Eckhart (as an example). If you have already cloned the deepmanifold github repository, then you'll need to take a few more steps before this code will work:\n",
    "\n",
    "1. Download the Labeled Faces in the Wild dataset from http://vis-www.cs.umass.edu/lfw/. You will need the lfw_attributes.txt file, as well as the standard (un-aligned) set of images, available directly from http://vis-www.cs.umass.edu/lfw/lfw.tgz. You will need to unzip this dataset in the 'images/' directory.\n",
    "2. Install caffe+pycaffe http://caffe.berkeleyvision.org/  (or symlink to an installation of caffe) in the directory directly above deepmanifold/. \n",
    "3. Download the 19 layer VGG weights and layer configuration from http://www.robots.ox.ac.uk/~vgg/research/very_deep/, and place them in ../caffe/models/VGG_CNN_19/\n",
    "\n",
    "You will also need the following python packages, which can be installed with pip:\n",
    "    * pillow>=2.7.0,<3.0\n",
    "    * numpy\n",
    "    * scikit-image\n",
    "    * protobuf\n",
    "    * matplotlib\n",
    "    * seaborn\n",
    "    * pyyaml\n",
    "    * h5py\n",
    "    * scipy\n",
    "    * sklearn\n",
    "    * requests\n",
    "\n",
    "After the above is done, we can continue."
   ]
  },
  {
   "cell_type": "markdown",
   "metadata": {},
   "source": [
    "# Imports and Setup\n",
    "\n",
    "The imports just import dmt and various other packages we'll need."
   ]
  },
  {
   "cell_type": "code",
   "execution_count": null,
   "metadata": {
    "collapsed": false
   },
   "outputs": [],
   "source": [
    "from glob import glob\n",
    "import csv\n",
    "import dmt\n",
    "import numpy as np\n",
    "import time\n",
    "from IPython.display import Image"
   ]
  },
  {
   "cell_type": "markdown",
   "metadata": {},
   "source": [
    "For setup, there are a few options that can be set. First, we need to decide what image dimensions we should run with. The images in LFW are 250x250, which DMT traversal can handle, but it does require a fair amount of memory. If you are running on a laptop or small server, you may want to reduce the resolution:"
   ]
  },
  {
   "cell_type": "code",
   "execution_count": null,
   "metadata": {
    "collapsed": true
   },
   "outputs": [],
   "source": [
    "image_dims = (250,250)"
   ]
  },
  {
   "cell_type": "markdown",
   "metadata": {},
   "source": [
    "We also need to decide on the values of lambda. If you are running on 250x250 images, we used the following set of weights in virtually all of our LFW experiments. If you change the image resolution, however, you will need to find lambdas that work for you. In general, we've found that higher resolution images require smaller lambdas to get the same effect because the norm of delta increases. \n",
    "\n",
    "One recommendation is just to run with a very large set of lambdas at first, and find a range that gives reasonable outputs.\n",
    "\n",
    "Finally, we also need to set the rbf_var. We've found that the algorithm is relatively insensitive to this as long as the kernel values are \"reasonable\" (i.e., not extremely small or very close to 1). In all of our experiments, we set rbf_var so that the values of KA and KB (currently printed out when you run dmt) were around 0.5."
   ]
  },
  {
   "cell_type": "code",
   "execution_count": null,
   "metadata": {
    "collapsed": true
   },
   "outputs": [],
   "source": [
    "weights =  [2e-7, 8e-8, 6e-8, 5e-8, 4e-8, 2e-8]\n",
    "rbf_var = 7.7e5"
   ]
  },
  {
   "cell_type": "markdown",
   "metadata": {},
   "source": [
    "# Load LFW Data\n",
    "\n",
    "Next, we load in the lfw_attributes file. The following code creates three variables of interest:\n",
    "\n",
    "1. lfw_categories -- A list of attributes that we can run DMT on (for example, \"senior\" will end up being lfw_categories[8])\n",
    "2. lfw_numdata -- The numerical attributes for each image in LFW. The rows of this matrix correspond to images, and the columns correspond to categories. For example, Aaron Eckhart's \"senior\" attribute value is in lfw_numdata[0][8]\n",
    "3. lfw_ipaths -- A list of paths to the actual jpg images in lfw, corresponding to the rows of lfw_numdata above."
   ]
  },
  {
   "cell_type": "code",
   "execution_count": null,
   "metadata": {
    "collapsed": false
   },
   "outputs": [],
   "source": [
    "lfw_attr = []\n",
    "with open('lfw_attributes.txt','rb') as csvfile:\n",
    "    rdr = csv.reader(csvfile, delimiter='\\t')\n",
    "    for row in rdr:\n",
    "        lfw_attr.append(row)\n",
    "lfw_categories = lfw_attr[1][3:]\n",
    "lfw_numdata = []\n",
    "lfw_ipaths = []\n",
    "for i in range(2,13145):\n",
    "    row = lfw_attr[i]\n",
    "    name = row[0].replace(' ','_')\n",
    "    num = row[1].zfill(4)\n",
    "    path = 'images/lfw/{}/{}_{}.jpg'.format(name,name,num)\n",
    "    numdata = [float(n) for n in row[2:]]\n",
    "    lfw_numdata.append(numdata)\n",
    "    lfw_ipaths.append(path)\n",
    "lfw_numdata = np.array(lfw_numdata)"
   ]
  },
  {
   "cell_type": "markdown",
   "metadata": {},
   "source": [
    "# Choose LFW category and test images\n",
    "\n",
    "Next, we pick what category to run and how many images from each category to run on. A smaller number of images will lead to a lower run time and memory requirement, but may degrade image quality. We actually observe we can often get away with fewer than 2000 images. We can also specify a small prefix that is added to the results directory name.\n",
    "\n",
    "Lastly, we also need to specify which images (corresponding to elements of lfw_ipath and rows of the lfw_attributes file) we want to perform deep manifold traversal for. In this case, we just set test_inds to [0] to run for Aaron Eckhart, but any list will suffice."
   ]
  },
  {
   "cell_type": "code",
   "execution_count": null,
   "metadata": {
    "collapsed": true
   },
   "outputs": [],
   "source": [
    "num_per_cat = 2000\n",
    "cat = 8 # Do senior, e.g. lfw_categories[8]\n",
    "prefix = 'Aging'\n",
    "test_inds = [0]"
   ]
  },
  {
   "cell_type": "markdown",
   "metadata": {},
   "source": [
    "Finally, we run deep manifold traversal. The first time you run on LFW may take a while, because it will extract and save the conv3_1, conv4_1, and conv5_1 VGG features for each image. In subsequent runs, we just load these from disk. Deep manifold traversal places its results in timestamped results directories"
   ]
  },
  {
   "cell_type": "code",
   "execution_count": null,
   "metadata": {
    "collapsed": false
   },
   "outputs": [],
   "source": [
    "sorted_inds = np.argsort(lfw_numdata[:,cat])\n",
    "\n",
    "source_inds = sorted_inds[0:num_per_cat]\n",
    "target_inds = sorted_inds[-num_per_cat:]\n",
    "everything_else = sorted_inds[num_per_cat:-num_per_cat]\n",
    "\n",
    "source_ipath = [lfw_ipaths[i] for i in source_inds]\n",
    "target_ipath = [lfw_ipaths[i] for i in target_inds]\n",
    "everything_else_ipath = []\n",
    "\n",
    "test_ipath = [lfw_ipaths[i] for i in test_inds]\n",
    "\n",
    "ipath = source_ipath + target_ipath + everything_else_ipath + test_ipath\n",
    "N = len(source_ipath)\n",
    "M = len(target_ipath)\n",
    "L = len(everything_else_ipath)\n",
    "model = 'vgg'\n",
    "device_id = 0\n",
    "\n",
    "max_iter = 2000\n",
    "hybrid = False\n",
    "dmt.run(ipath,N,M,L,model,image_dims,device_id,weights,rbf_var,prefix,max_iter,hybrid,True)"
   ]
  }
 ],
 "metadata": {
  "kernelspec": {
   "display_name": "Python 2",
   "language": "python",
   "name": "python2"
  },
  "language_info": {
   "codemirror_mode": {
    "name": "ipython",
    "version": 2
   },
   "file_extension": ".py",
   "mimetype": "text/x-python",
   "name": "python",
   "nbconvert_exporter": "python",
   "pygments_lexer": "ipython2",
   "version": "2.7.11"
  }
 },
 "nbformat": 4,
 "nbformat_minor": 0
}
